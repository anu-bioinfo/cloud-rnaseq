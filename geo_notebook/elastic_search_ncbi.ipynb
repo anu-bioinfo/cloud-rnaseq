{
 "cells": [
  {
   "cell_type": "code",
   "execution_count": 2,
   "metadata": {
    "collapsed": true
   },
   "outputs": [],
   "source": [
    "import requests\n",
    "from aws_requests_auth.aws_auth import AWSRequestsAuth\n",
    "import os\n",
    "#https://www.elastic.co/guide/en/elasticsearch/reference/current/number.html\n",
    "#https://github.com/DavidMuller/aws-requests-auth \n",
    "\n",
    "#https://www.elastic.co/guide/en/elasticsearch/reference/current/_batch_processing.html\n",
    "\n",
    "\n"
   ]
  },
  {
   "cell_type": "code",
   "execution_count": 20,
   "metadata": {
    "collapsed": false
   },
   "outputs": [
    {
     "name": "stdout",
     "output_type": "stream",
     "text": [
      "{\n",
      "  \"name\" : \"twnJ3PL\",\n",
      "  \"cluster_name\" : \"787588439240:czi-bio-search-alpha\",\n",
      "  \"cluster_uuid\" : \"5PfdcJmmSDmDMKDCd0zsuQ\",\n",
      "  \"version\" : {\n",
      "    \"number\" : \"5.1.1\",\n",
      "    \"build_hash\" : \"5395e21\",\n",
      "    \"build_date\" : \"2016-12-15T22:47:19.049Z\",\n",
      "    \"build_snapshot\" : false,\n",
      "    \"lucene_version\" : \"6.3.0\"\n",
      "  },\n",
      "  \"tagline\" : \"You Know, for Search\"\n",
      "}\n",
      "\n"
     ]
    }
   ],
   "source": [
    "AWS_SEARCH_HOST = os.environ.get(\"AWS_ES_NCBI_HOST\")\n",
    "\n",
    "HOST_URL = 'https://' + AWS_SEARCH_HOST\n",
    "AWS_ACCES_KEY = os.environ.get(\"AWS_KEY_ID\")\n",
    "AWS_ACCESS_SECRET = os.environ.get(\"AWS_KEY_SECRET\")\n",
    "\n",
    "auth = AWSRequestsAuth(aws_access_key=AWS_ACCES_KEY,\n",
    "                       aws_secret_access_key=AWS_ACCESS_SECRET,\n",
    "                       aws_host=AWS_SEARCH_HOST,\n",
    "                       aws_region='us-east-1',\n",
    "                       aws_service='es')\n",
    "\n",
    "response = requests.get(HOST_URL, auth=auth)\n",
    "print response.content\n",
    "\n",
    "\n"
   ]
  },
  {
   "cell_type": "code",
   "execution_count": null,
   "metadata": {
    "collapsed": true
   },
   "outputs": [],
   "source": [
    "# Test post and update functions"
   ]
  },
  {
   "cell_type": "code",
   "execution_count": 22,
   "metadata": {
    "collapsed": false
   },
   "outputs": [
    {
     "data": {
      "text/plain": [
       "'{\\n  \"acknowledged\" : true,\\n  \"shards_acknowledged\" : true\\n}\\n'"
      ]
     },
     "execution_count": 22,
     "metadata": {},
     "output_type": "execute_result"
    }
   ],
   "source": [
    "response = requests.delete(HOST_URL + '/testindex?pretty', auth=auth)\n",
    "response.content\n",
    "\n",
    "response = requests.put(HOST_URL + '/testindex?pretty', auth=auth)\n",
    "response.content\n"
   ]
  },
  {
   "cell_type": "code",
   "execution_count": 29,
   "metadata": {
    "collapsed": false,
    "scrolled": true
   },
   "outputs": [
    {
     "name": "stdout",
     "output_type": "stream",
     "text": [
      "health status index     uuid                   pri rep docs.count docs.deleted store.size pri.store.size\n",
      "yellow open   .kibana   PRhwMuurTZ-kZXK1ULxQcg   1   1          1            0      3.1kb          3.1kb\n",
      "yellow open   testindex BQG4ds8lTo-EC3w1BTeBLw   5   1          9            0    262.6kb        262.6kb\n",
      "\n"
     ]
    },
    {
     "data": {
      "text/plain": [
       "{u'_shards': {u'failed': 0, u'successful': 5, u'total': 5},\n",
       " u'hits': {u'hits': [], u'max_score': None, u'total': 0},\n",
       " u'timed_out': False,\n",
       " u'took': 3}"
      ]
     },
     "execution_count": 29,
     "metadata": {},
     "output_type": "execute_result"
    }
   ],
   "source": [
    "\n",
    "response = requests.get(HOST_URL + '/_cat/indices?v', auth=auth)\n",
    "print response.content\n",
    "\n",
    "\n",
    "response = requests.get(HOST_URL + '/testindex/_search?q=geo_accession%3AGSM1617399&pretty')\n",
    "x = response.content\n",
    "import json\n",
    "json.loads(x)\n"
   ]
  },
  {
   "cell_type": "code",
   "execution_count": 24,
   "metadata": {
    "collapsed": false
   },
   "outputs": [
    {
     "name": "stderr",
     "output_type": "stream",
     "text": [
      "Parsing /Users/yf/Downloads/GSE66217_family.soft.gz:\n",
      " - DATABASE : GeoMiame\n",
      " - SERIES : GSE66217\n",
      " - PLATFORM : GPL11154\n",
      " - SAMPLE : GSM1617398\n",
      " - SAMPLE : GSM1617399\n",
      " - SAMPLE : GSM1617400\n",
      " - SAMPLE : GSM1617401\n",
      " - SAMPLE : GSM1617402\n",
      " - SAMPLE : GSM1617403\n",
      " - SAMPLE : GSM1617404\n",
      " - SAMPLE : GSM1617405\n",
      " - SAMPLE : GSM1617406\n",
      "Parsing /Users/yf/Downloads/GSE66217_family.soft.gz:\n",
      " - DATABASE : GeoMiame\n",
      " - SERIES : GSE66217\n",
      " - PLATFORM : GPL11154\n",
      " - SAMPLE : GSM1617398\n",
      " - SAMPLE : GSM1617399\n",
      " - SAMPLE : GSM1617400\n",
      " - SAMPLE : GSM1617401\n",
      " - SAMPLE : GSM1617402\n",
      " - SAMPLE : GSM1617403\n",
      " - SAMPLE : GSM1617404\n",
      " - SAMPLE : GSM1617405\n",
      " - SAMPLE : GSM1617406\n"
     ]
    },
    {
     "name": "stdout",
     "output_type": "stream",
     "text": [
      "{\n",
      "  \"took\" : 350,\n",
      "  \"errors\" : false,\n",
      "  \"items\" : [\n",
      "    {\n",
      "      \"index\" : {\n",
      "        \"_index\" : \"testindex\",\n",
      "        \"_type\" : \"external\",\n",
      "        \"_id\" : \"GSM1617398\",\n",
      "        \"_version\" : 1,\n",
      "        \"result\" : \"created\",\n",
      "        \"_shards\" : {\n",
      "          \"total\" : 2,\n",
      "          \"successful\" : 1,\n",
      "          \"failed\" : 0\n",
      "        },\n",
      "        \"created\" : true,\n",
      "        \"status\" : 201\n",
      "      }\n",
      "    },\n",
      "    {\n",
      "      \"index\" : {\n",
      "        \"_index\" : \"testindex\",\n",
      "        \"_type\" : \"external\",\n",
      "        \"_id\" : \"GSM1617399\",\n",
      "        \"_version\" : 1,\n",
      "        \"result\" : \"created\",\n",
      "        \"_shards\" : {\n",
      "          \"total\" : 2,\n",
      "          \"successful\" : 1,\n",
      "          \"failed\" : 0\n",
      "        },\n",
      "        \"created\" : true,\n",
      "        \"status\" : 201\n",
      "      }\n",
      "    },\n",
      "    {\n",
      "      \"index\" : {\n",
      "        \"_index\" : \"testindex\",\n",
      "        \"_type\" : \"external\",\n",
      "        \"_id\" : \"GSM1617400\",\n",
      "        \"_version\" : 1,\n",
      "        \"result\" : \"created\",\n",
      "        \"_shards\" : {\n",
      "          \"total\" : 2,\n",
      "          \"successful\" : 1,\n",
      "          \"failed\" : 0\n",
      "        },\n",
      "        \"created\" : true,\n",
      "        \"status\" : 201\n",
      "      }\n",
      "    },\n",
      "    {\n",
      "      \"index\" : {\n",
      "        \"_index\" : \"testindex\",\n",
      "        \"_type\" : \"external\",\n",
      "        \"_id\" : \"GSM1617401\",\n",
      "        \"_version\" : 1,\n",
      "        \"result\" : \"created\",\n",
      "        \"_shards\" : {\n",
      "          \"total\" : 2,\n",
      "          \"successful\" : 1,\n",
      "          \"failed\" : 0\n",
      "        },\n",
      "        \"created\" : true,\n",
      "        \"status\" : 201\n",
      "      }\n",
      "    },\n",
      "    {\n",
      "      \"index\" : {\n",
      "        \"_index\" : \"testindex\",\n",
      "        \"_type\" : \"external\",\n",
      "        \"_id\" : \"GSM1617402\",\n",
      "        \"_version\" : 1,\n",
      "        \"result\" : \"created\",\n",
      "        \"_shards\" : {\n",
      "          \"total\" : 2,\n",
      "          \"successful\" : 1,\n",
      "          \"failed\" : 0\n",
      "        },\n",
      "        \"created\" : true,\n",
      "        \"status\" : 201\n",
      "      }\n",
      "    },\n",
      "    {\n",
      "      \"index\" : {\n",
      "        \"_index\" : \"testindex\",\n",
      "        \"_type\" : \"external\",\n",
      "        \"_id\" : \"GSM1617403\",\n",
      "        \"_version\" : 1,\n",
      "        \"result\" : \"created\",\n",
      "        \"_shards\" : {\n",
      "          \"total\" : 2,\n",
      "          \"successful\" : 1,\n",
      "          \"failed\" : 0\n",
      "        },\n",
      "        \"created\" : true,\n",
      "        \"status\" : 201\n",
      "      }\n",
      "    },\n",
      "    {\n",
      "      \"index\" : {\n",
      "        \"_index\" : \"testindex\",\n",
      "        \"_type\" : \"external\",\n",
      "        \"_id\" : \"GSM1617404\",\n",
      "        \"_version\" : 1,\n",
      "        \"result\" : \"created\",\n",
      "        \"_shards\" : {\n",
      "          \"total\" : 2,\n",
      "          \"successful\" : 1,\n",
      "          \"failed\" : 0\n",
      "        },\n",
      "        \"created\" : true,\n",
      "        \"status\" : 201\n",
      "      }\n",
      "    },\n",
      "    {\n",
      "      \"index\" : {\n",
      "        \"_index\" : \"testindex\",\n",
      "        \"_type\" : \"external\",\n",
      "        \"_id\" : \"GSM1617405\",\n",
      "        \"_version\" : 1,\n",
      "        \"result\" : \"created\",\n",
      "        \"_shards\" : {\n",
      "          \"total\" : 2,\n",
      "          \"successful\" : 1,\n",
      "          \"failed\" : 0\n",
      "        },\n",
      "        \"created\" : true,\n",
      "        \"status\" : 201\n",
      "      }\n",
      "    },\n",
      "    {\n",
      "      \"index\" : {\n",
      "        \"_index\" : \"testindex\",\n",
      "        \"_type\" : \"external\",\n",
      "        \"_id\" : \"GSM1617406\",\n",
      "        \"_version\" : 1,\n",
      "        \"result\" : \"created\",\n",
      "        \"_shards\" : {\n",
      "          \"total\" : 2,\n",
      "          \"successful\" : 1,\n",
      "          \"failed\" : 0\n",
      "        },\n",
      "        \"created\" : true,\n",
      "        \"status\" : 201\n",
      "      }\n",
      "    }\n",
      "  ]\n",
      "}\n",
      "\n"
     ]
    }
   ],
   "source": [
    "import GEOparse\n",
    "gse = GEOparse.get_GEO(filepath=\"/Users/yf/Downloads/GSE66217_family.soft.gz\")\n",
    "#print gse.metadata\n",
    "#print gse.gsms # look at samples' .metadata\n",
    "#print gse.gpls # look at platforms .metadata\n",
    "\n",
    "\n",
    "def generate_index_objects(gse_file):\n",
    "    gse = GEOparse.get_GEO(filepath=gse_file)\n",
    "    # output \n",
    "    # {sample_data: , series_data: , platform_data:}\n",
    "    series_data = gse.metadata\n",
    "    platform_data = {}\n",
    "    samples = {}\n",
    "    \n",
    "    for key, obj in gse.gpls.iteritems():\n",
    "        platform_data[key] = obj.metadata\n",
    "        \n",
    "    for key, obj in gse.gsms.iteritems():\n",
    "        sample_data = obj.metadata\n",
    "        samples[key] = {'sample_data':sample_data, 'series_data':series_data, 'platform_data':platform_data}\n",
    "        \n",
    "    return samples\n",
    "    \n",
    "\n",
    "def generate_index_json(samples):\n",
    "    output = ''\n",
    "    for key, sample_obj in samples.iteritems():\n",
    "        output += '{\"index\":{\"_id\":\"%s\"}}\\n' % key\n",
    "        output += json.dumps(sample_obj) + '\\n'\n",
    "    return output\n",
    "        \n",
    "\n",
    "samples = generate_index_objects(\"/Users/yf/Downloads/GSE66217_family.soft.gz\")\n",
    "index_data = generate_index_json(samples) \n",
    "response = requests.put(HOST_URL + '/testindex/external/_bulk?pretty', data=index_data, auth=auth)\n",
    "print response.content\n"
   ]
  },
  {
   "cell_type": "code",
   "execution_count": 45,
   "metadata": {
    "collapsed": false
   },
   "outputs": [
    {
     "name": "stdout",
     "output_type": "stream",
     "text": [
      "https://search-czi-bio-search-alpha-6f6daen5vamw4ywwy5uyknspry.us-east-1.es.amazonaws.com/testindex/_search?q=cortex&pretty\n"
     ]
    }
   ],
   "source": [
    "x = HOST_URL + '/testindex/_search?q=cortex&pretty'\n",
    "print x"
   ]
  },
  {
   "cell_type": "code",
   "execution_count": 9,
   "metadata": {
    "collapsed": false
   },
   "outputs": [
    {
     "data": {
      "text/plain": [
       "{'channel_count': ['1'],\n",
       " 'characteristics_ch1': ['gestational age (weeks): 18',\n",
       "  'facs population: LeX+ Glast+ Prominin-low'],\n",
       " 'contact_address': ['300 Longwood Ave.'],\n",
       " 'contact_city': ['Boston'],\n",
       " 'contact_country': ['USA'],\n",
       " 'contact_department': ['Genetics and Genomics'],\n",
       " 'contact_email': ['matthew.johnson@childrens.harvard.edu'],\n",
       " 'contact_institute': [\"Boston Children's Hospital\"],\n",
       " 'contact_name': ['Matthew,Bonser,Johnson'],\n",
       " 'contact_state': ['Massachusetts'],\n",
       " 'contact_zip/postal_code': ['02115'],\n",
       " 'data_processing': ['base-calling with Illumina CASAVA 1.8.2',\n",
       "  'alignment to the human reference genome and UCSC Known Genes transcriptome with tophat v2.0.6',\n",
       "  'gene expression level estimation and differential expression analysis performed with cufflinks v2.0.2',\n",
       "  'Genome_build: hg19',\n",
       "  'Supplementary_files_format_and_content: cufflinks gene-level fpkm tracking file format, contains gene-level expression estimates for each condition summarized across the three biological replicates'],\n",
       " 'data_row_count': ['0'],\n",
       " 'description': ['Outer radial glial cells, replicate 1'],\n",
       " 'extract_protocol_ch1': ['Tissue samples were dissociated with trypsin, immunolabeled, and FACS sorted, and RNA purified from sorted cell populations, all using standard kits and protocols.',\n",
       "  'Illumina TruSeq v2 paired-end mRNA library protocol'],\n",
       " 'geo_accession': ['GSM1617399'],\n",
       " 'instrument_model': ['Illumina HiSeq 2000'],\n",
       " 'last_update_date': ['Feb 24 2015'],\n",
       " 'library_selection': ['cDNA'],\n",
       " 'library_source': ['transcriptomic'],\n",
       " 'library_strategy': ['RNA-Seq'],\n",
       " 'molecule_ch1': ['total RNA'],\n",
       " 'organism_ch1': ['Homo sapiens'],\n",
       " 'platform_id': ['GPL11154'],\n",
       " 'relation': ['BioSample: https://www.ncbi.nlm.nih.gov/biosample/SAMN03366661',\n",
       "  'SRA: https://www.ncbi.nlm.nih.gov/sra?term=SRX886329'],\n",
       " 'series_id': ['GSE66217'],\n",
       " 'source_name_ch1': ['mid-fetal cerebral cortex'],\n",
       " 'status': ['Public on Feb 24 2015'],\n",
       " 'submission_date': ['Feb 23 2015'],\n",
       " 'supplementary_file_1': ['ftp://ftp-trace.ncbi.nlm.nih.gov/sra/sra-instant/reads/ByExp/sra/SRX/SRX886/SRX886329'],\n",
       " 'taxid_ch1': ['9606'],\n",
       " 'title': ['FB032_LG+Prlo'],\n",
       " 'type': ['SRA']}"
      ]
     },
     "execution_count": 9,
     "metadata": {},
     "output_type": "execute_result"
    }
   ],
   "source": [
    "gse.gsms['GSM1617399'].metadata"
   ]
  },
  {
   "cell_type": "code",
   "execution_count": 18,
   "metadata": {
    "collapsed": false
   },
   "outputs": [
    {
     "name": "stdout",
     "output_type": "stream",
     "text": [
      "{\"index\":{\"_id\":\"dsfsdf\"}}\n",
      "\n",
      "23434\n"
     ]
    }
   ],
   "source": [
    "gse.gpls['GPL11154'].metadata\n",
    "print '{\"index\":{\"_id\":\"%s\"}}\\n' % \"dsfsdf\"\n",
    "\n",
    "print 23434"
   ]
  }
 ],
 "metadata": {
  "anaconda-cloud": {},
  "kernelspec": {
   "display_name": "Python [conda root]",
   "language": "python",
   "name": "conda-root-py"
  },
  "language_info": {
   "codemirror_mode": {
    "name": "ipython",
    "version": 2
   },
   "file_extension": ".py",
   "mimetype": "text/x-python",
   "name": "python",
   "nbconvert_exporter": "python",
   "pygments_lexer": "ipython2",
   "version": "2.7.9"
  }
 },
 "nbformat": 4,
 "nbformat_minor": 1
}
