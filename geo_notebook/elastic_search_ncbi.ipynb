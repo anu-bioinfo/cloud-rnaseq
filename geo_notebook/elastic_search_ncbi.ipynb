{
 "cells": [
  {
   "cell_type": "code",
   "execution_count": 1,
   "metadata": {
    "collapsed": true
   },
   "outputs": [],
   "source": [
    "import requests\n",
    "from aws_requests_auth.aws_auth import AWSRequestsAuth\n",
    "#https://www.elastic.co/guide/en/elasticsearch/reference/current/number.html\n",
    "#https://github.com/DavidMuller/aws-requests-auth \n",
    "\n",
    "#https://www.elastic.co/guide/en/elasticsearch/reference/current/_batch_processing.html\n",
    "\n",
    "\n"
    "\n"
    "\n",
    "\n",
    "\n"
   ]
  },
  {
   "cell_type": "code",
   "execution_count": 19,
   "metadata": {
    "collapsed": false
   },
   "outputs": [
    {
     "name": "stdout",
     "output_type": "stream",
     "text": [
      "{\n",
      "  \"name\" : \"6hzztUL\",\n",
      "  \"cluster_name\" : \"787588439240:czi-bio-search-alpha\",\n",
      "  \"cluster_uuid\" : \"5PfdcJmmSDmDMKDCd0zsuQ\",\n",
      "  \"version\" : {\n",
      "    \"number\" : \"5.1.1\",\n",
      "    \"build_hash\" : \"5395e21\",\n",
      "    \"build_date\" : \"2016-12-15T22:47:19.049Z\",\n",
      "    \"build_snapshot\" : false,\n",
      "    \"lucene_version\" : \"6.3.0\"\n",
      "  },\n",
      "  \"tagline\" : \"You Know, for Search\"\n",
      "}\n",
      "\n"
     ]
    }
   ],
   "source": [
    "AWS_SEARCH_HOST = 'search-czi-bio-search-alpha-6f6daen5vamw4ywwy5uyknspry.us-east-1.es.amazonaws.com'\n",
    "AWS_ES_KIBANA_URL = 'http://search-czi-bio-search-alpha-6f6daen5vamw4ywwy5uyknspry.us-east-1.es.amazonaws.com/_plugin/kibana/'\n",
    "\n",
    "AWS_ACCES_KEY = 'ABCAKIAIHQDDHEIOE5PEYEA'\n",
    "AWS_ACCESS_SECRET = 'ptbXo7FEjlyUdanmfQ+YTY1cHnQ4RxsdGs1hy76y'\n",
    "\n",
    "\n",
    "auth = AWSRequestsAuth(aws_access_key=AWS_ACCES_KEY,\n",
    "                       aws_secret_access_key=AWS_ACCESS_SECRET,\n",
    "                       aws_host=AWS_SEARCH_HOST,\n",
    "                       aws_region='us-east-1',\n",
    "                       aws_service='es')\n",
    "\n",
    "response = requests.get('https://search-czi-bio-search-alpha-6f6daen5vamw4ywwy5uyknspry.us-east-1.es.amazonaws.com/',\n",
    "                        auth=auth)\n",
    "print response.content\n",
    "\n",
    "\n"
   ]
  },
  {
   "cell_type": "code",
   "execution_count": null,
   "metadata": {
    "collapsed": true
   },
   "outputs": [],
   "source": [
    "# Test post and update functions"
   ]
  },
  {
   "cell_type": "code",
   "execution_count": 27,
   "metadata": {
    "collapsed": false
   },
   "outputs": [
    {
     "name": "stdout",
     "output_type": "stream",
     "text": [
      "{\n",
      "  \"error\" : {\n",
      "    \"root_cause\" : [\n",
      "      {\n",
      "        \"type\" : \"index_already_exists_exception\",\n",
      "        \"reason\" : \"index [testindex/1OkckD67R6Okf0yR9UaQhg] already exists\",\n",
      "        \"index_uuid\" : \"1OkckD67R6Okf0yR9UaQhg\",\n",
      "        \"index\" : \"testindex\"\n",
      "      }\n",
      "    ],\n",
      "    \"type\" : \"index_already_exists_exception\",\n",
      "    \"reason\" : \"index [testindex/1OkckD67R6Okf0yR9UaQhg] already exists\",\n",
      "    \"index_uuid\" : \"1OkckD67R6Okf0yR9UaQhg\",\n",
      "    \"index\" : \"testindex\"\n",
      "  },\n",
      "  \"status\" : 400\n",
      "}\n",
      "\n"
     ]
    }
   ],
   "source": [
    "HOST_URL = 'https://search-czi-bio-search-alpha-6f6daen5vamw4ywwy5uyknspry.us-east-1.es.amazonaws.com'\n",
    "response = requests.put(HOST_URL + '/testindex?pretty', auth=auth)\n",
    "print response.content"
   ]
  },
  {
   "cell_type": "code",
   "execution_count": 14,
   "metadata": {
    "collapsed": false
   },
   "outputs": [
    {
     "name": "stdout",
     "output_type": "stream",
     "text": [
      "{\n",
      "  \"took\" : 135,\n",
      "  \"errors\" : false,\n",
      "  \"items\" : [\n",
      "    {\n",
      "      \"index\" : {\n",
      "        \"_index\" : \"testindex\",\n",
      "        \"_type\" : \"external\",\n",
      "        \"_id\" : \"GSM1617399\",\n",
      "        \"_version\" : 1,\n",
      "        \"result\" : \"created\",\n",
      "        \"_shards\" : {\n",
      "          \"total\" : 2,\n",
      "          \"successful\" : 1,\n",
      "          \"failed\" : 0\n",
      "        },\n",
      "        \"created\" : true,\n",
      "        \"status\" : 201\n",
      "      }\n",
      "    },\n",
      "    {\n",
      "      \"index\" : {\n",
      "        \"_index\" : \"testindex\",\n",
      "        \"_type\" : \"external\",\n",
      "        \"_id\" : \"GSM1617400\",\n",
      "        \"_version\" : 1,\n",
      "        \"result\" : \"created\",\n",
      "        \"_shards\" : {\n",
      "          \"total\" : 2,\n",
      "          \"successful\" : 1,\n",
      "          \"failed\" : 0\n",
      "        },\n",
      "        \"created\" : true,\n",
      "        \"status\" : 201\n",
      "      }\n",
      "    }\n",
      "  ]\n",
      "}\n",
      "\n",
      "health status index     uuid                   pri rep docs.count docs.deleted store.size pri.store.size\n",
      "yellow open   .kibana   PRhwMuurTZ-kZXK1ULxQcg   1   1          1            0      3.1kb          3.1kb\n",
      "yellow open   testindex 1OkckD67R6Okf0yR9UaQhg   5   1          2            0       650b           650b\n",
      "\n"
     ]
    }
   ],
   "source": [
    "# generate index dump\n",
    "\n",
    "index_data = \"\"\"\n",
    "{\"index\":{\"_id\":\"GSM1617399\"}}\n",
    "{\"status\": [\"Public on Feb 24 2015\"], \"contact_institute\": [\"Boston Children\\'s Hospital\"], \"contact_address\": [\"300 Longwood Ave.\"], \"relation\": [\"BioSample: https://www.ncbi.nlm.nih.gov/biosample/SAMN03366661\", \"SRA: https://www.ncbi.nlm.nih.gov/sra?term=SRX886329\"], \"contact_zip/postal_code\": [\"02115\"], \"supplementary_file_1\": [\"ftp://ftp-trace.ncbi.nlm.nih.gov/sra/sra-instant/reads/ByExp/sra/SRX/SRX886/SRX886329\"], \"contact_name\": [\"Matthew,Bonser,Johnson\"], \"source_name_ch1\": [\"mid-fetal cerebral cortex\"], \"contact_country\": [\"USA\"], \"title\": [\"FB032_LG+Prlo\"], \"data_processing\": [\"base-calling with Illumina CASAVA 1.8.2\", \"alignment to the human reference genome and UCSC Known Genes transcriptome with tophat v2.0.6\", \"gene expression level estimation and differential expression analysis performed with cufflinks v2.0.2\", \"Genome_build: hg19\", \"Supplementary_files_format_and_content: cufflinks gene-level fpkm tracking file format, contains gene-level expression estimates for each condition summarized across the three biological replicates\"], \"library_selection\": [\"cDNA\"], \"library_strategy\": [\"RNA-Seq\"], \"type\": [\"SRA\"], \"submission_date\": [\"Feb 23 2015\"], \"extract_protocol_ch1\": [\"Tissue samples were dissociated with trypsin, immunolabeled, and FACS sorted, and RNA purified from sorted cell populations, all using standard kits and protocols.\", \"Illumina TruSeq v2 paired-end mRNA library protocol\"], \"contact_state\": [\"Massachusetts\"], \"description\": [\"Outer radial glial cells, replicate 1\"], \"taxid_ch1\": [\"9606\"], \"channel_count\": [\"1\"], \"characteristics_ch1\": [\"gestational age (weeks): 18\", \"facs population: LeX+ Glast+ Prominin-low\"], \"molecule_ch1\": [\"total RNA\"], \"series_id\": [\"GSE66217\"], \"contact_email\": [\"matthew.johnson@childrens.harvard.edu\"], \"last_update_date\": [\"Feb 24 2015\"], \"geo_accession\": [\"GSM1617399\"], \"library_source\": [\"transcriptomic\"], \"data_row_count\": [\"0\"], \"contact_city\": [\"Boston\"], \"instrument_model\": [\"Illumina HiSeq 2000\"], \"platform_id\": [\"GPL11154\"], \"contact_department\": [\"Genetics and Genomics\"], \"organism_ch1\": [\"Homo sapiens\"]}\n",
    "{\"index\":{\"_id\":\"GSM1617400\"}}\n",
    "{\"status\": [\"Public on Feb 24 2015\"], \"contact_institute\": [\"Boston Children\\'s Hospital\"], \"contact_address\": [\"300 Longwood Ave.\"], \"relation\": [\"BioSample: https://www.ncbi.nlm.nih.gov/biosample/SAMN03366655\", \"SRA: https://www.ncbi.nlm.nih.gov/sra?term=SRX886330\"], \"contact_zip/postal_code\": [\"02115\"], \"supplementary_file_1\": [\"ftp://ftp-trace.ncbi.nlm.nih.gov/sra/sra-instant/reads/ByExp/sra/SRX/SRX886/SRX886330\"], \"contact_name\": [\"Matthew,Bonser,Johnson\"], \"source_name_ch1\": [\"mid-fetal cerebral cortex\"], \"contact_country\": [\"USA\"], \"title\": [\"FB032_LG-Pr-\"], \"data_processing\": [\"base-calling with Illumina CASAVA 1.8.2\", \"alignment to the human reference genome and UCSC Known Genes transcriptome with tophat v2.0.6\", \"gene expression level estimation and differential expression analysis performed with cufflinks v2.0.2\", \"Genome_build: hg19\", \"Supplementary_files_format_and_content: cufflinks gene-level fpkm tracking file format, contains gene-level expression estimates for each condition summarized across the three biological replicates\"], \"library_selection\": [\"cDNA\"], \"library_strategy\": [\"RNA-Seq\"], \"type\": [\"SRA\"], \"submission_date\": [\"Feb 23 2015\"], \"extract_protocol_ch1\": [\"Tissue samples were dissociated with trypsin, immunolabeled, and FACS sorted, and RNA purified from sorted cell populations, all using standard kits and protocols.\", \"Illumina TruSeq v2 paired-end mRNA library protocol\"], \"contact_state\": [\"Massachusetts\"], \"description\": [\"Neurons, replicate 1\"], \"taxid_ch1\": [\"9606\"], \"channel_count\": [\"1\"], \"characteristics_ch1\": [\"gestational age (weeks): 18\", \"facs population: LeX/Glast/Prominin-negative\"], \"molecule_ch1\": [\"total RNA\"], \"series_id\": [\"GSE66217\"], \"contact_email\": [\"matthew.johnson@childrens.harvard.edu\"], \"last_update_date\": [\"Feb 24 2015\"], \"geo_accession\": [\"GSM1617400\"], \"library_source\": [\"transcriptomic\"], \"data_row_count\": [\"0\"], \"contact_city\": [\"Boston\"], \"instrument_model\": [\"Illumina HiSeq 2000\"], \"platform_id\": [\"GPL11154\"], \"contact_department\": [\"Genetics and Genomics\"], \"organism_ch1\": [\"Homo sapiens\"]}\n",
    "\"\"\"\n",
    "\n",
    "response = requests.put(HOST_URL + '/testindex/external/_bulk?pretty', data=index_data, auth=auth)\n",
    "print response.content\n",
    "\n",
    "\n",
    "response = requests.get(HOST_URL + '/_cat/indices?v', auth=auth)\n",
    "print response.content\n",
    "\n"
   ]
  },
  {
   "cell_type": "code",
   "execution_count": 44,
   "metadata": {
    "collapsed": false,
    "scrolled": true
   },
   "outputs": [
    {
     "name": "stdout",
     "output_type": "stream",
     "text": [
      "health status index     uuid                   pri rep docs.count docs.deleted store.size pri.store.size\n",
      "yellow open   .kibana   PRhwMuurTZ-kZXK1ULxQcg   1   1          1            0      3.1kb          3.1kb\n",
      "yellow open   testindex 1OkckD67R6Okf0yR9UaQhg   5   1          2            0     31.6kb         31.6kb\n",
      "\n"
     ]
    },
    {
     "data": {
      "text/plain": [
       "{u'_shards': {u'failed': 0, u'successful': 5, u'total': 5},\n",
       " u'hits': {u'hits': [{u'_id': u'GSM1617399',\n",
       "    u'_index': u'testindex',\n",
       "    u'_score': 0.18232156,\n",
       "    u'_source': {u'channel_count': [u'1'],\n",
       "     u'characteristics_ch1': [u'gestational age (weeks): 18',\n",
       "      u'facs population: LeX+ Glast+ Prominin-low'],\n",
       "     u'contact_address': [u'300 Longwood Ave.'],\n",
       "     u'contact_city': [u'Boston'],\n",
       "     u'contact_country': [u'USA'],\n",
       "     u'contact_department': [u'Genetics and Genomics'],\n",
       "     u'contact_email': [u'matthew.johnson@childrens.harvard.edu'],\n",
       "     u'contact_institute': [u\"Boston Children's Hospital\"],\n",
       "     u'contact_name': [u'Matthew,Bonser,Johnson'],\n",
       "     u'contact_state': [u'Massachusetts'],\n",
       "     u'contact_zip/postal_code': [u'02115'],\n",
       "     u'data_processing': [u'base-calling with Illumina CASAVA 1.8.2',\n",
       "      u'alignment to the human reference genome and UCSC Known Genes transcriptome with tophat v2.0.6',\n",
       "      u'gene expression level estimation and differential expression analysis performed with cufflinks v2.0.2',\n",
       "      u'Genome_build: hg19',\n",
       "      u'Supplementary_files_format_and_content: cufflinks gene-level fpkm tracking file format, contains gene-level expression estimates for each condition summarized across the three biological replicates'],\n",
       "     u'data_row_count': [u'0'],\n",
       "     u'description': [u'Outer radial glial cells, replicate 1'],\n",
       "     u'extract_protocol_ch1': [u'Tissue samples were dissociated with trypsin, immunolabeled, and FACS sorted, and RNA purified from sorted cell populations, all using standard kits and protocols.',\n",
       "      u'Illumina TruSeq v2 paired-end mRNA library protocol'],\n",
       "     u'geo_accession': [u'GSM1617399'],\n",
       "     u'instrument_model': [u'Illumina HiSeq 2000'],\n",
       "     u'last_update_date': [u'Feb 24 2015'],\n",
       "     u'library_selection': [u'cDNA'],\n",
       "     u'library_source': [u'transcriptomic'],\n",
       "     u'library_strategy': [u'RNA-Seq'],\n",
       "     u'molecule_ch1': [u'total RNA'],\n",
       "     u'organism_ch1': [u'Homo sapiens'],\n",
       "     u'platform_id': [u'GPL11154'],\n",
       "     u'relation': [u'BioSample: https://www.ncbi.nlm.nih.gov/biosample/SAMN03366661',\n",
       "      u'SRA: https://www.ncbi.nlm.nih.gov/sra?term=SRX886329'],\n",
       "     u'series_id': [u'GSE66217'],\n",
       "     u'source_name_ch1': [u'mid-fetal cerebral cortex'],\n",
       "     u'status': [u'Public on Feb 24 2015'],\n",
       "     u'submission_date': [u'Feb 23 2015'],\n",
       "     u'supplementary_file_1': [u'ftp://ftp-trace.ncbi.nlm.nih.gov/sra/sra-instant/reads/ByExp/sra/SRX/SRX886/SRX886329'],\n",
       "     u'taxid_ch1': [u'9606'],\n",
       "     u'title': [u'FB032_LG+Prlo'],\n",
       "     u'type': [u'SRA']},\n",
       "    u'_type': u'external'},\n",
       "   {u'_id': u'GSM1617400',\n",
       "    u'_index': u'testindex',\n",
       "    u'_score': 0.18232156,\n",
       "    u'_source': {u'channel_count': [u'1'],\n",
       "     u'characteristics_ch1': [u'gestational age (weeks): 18',\n",
       "      u'facs population: LeX/Glast/Prominin-negative'],\n",
       "     u'contact_address': [u'300 Longwood Ave.'],\n",
       "     u'contact_city': [u'Boston'],\n",
       "     u'contact_country': [u'USA'],\n",
       "     u'contact_department': [u'Genetics and Genomics'],\n",
       "     u'contact_email': [u'matthew.johnson@childrens.harvard.edu'],\n",
       "     u'contact_institute': [u\"Boston Children's Hospital\"],\n",
       "     u'contact_name': [u'Matthew,Bonser,Johnson'],\n",
       "     u'contact_state': [u'Massachusetts'],\n",
       "     u'contact_zip/postal_code': [u'02115'],\n",
       "     u'data_processing': [u'base-calling with Illumina CASAVA 1.8.2',\n",
       "      u'alignment to the human reference genome and UCSC Known Genes transcriptome with tophat v2.0.6',\n",
       "      u'gene expression level estimation and differential expression analysis performed with cufflinks v2.0.2',\n",
       "      u'Genome_build: hg19',\n",
       "      u'Supplementary_files_format_and_content: cufflinks gene-level fpkm tracking file format, contains gene-level expression estimates for each condition summarized across the three biological replicates'],\n",
       "     u'data_row_count': [u'0'],\n",
       "     u'description': [u'Neurons, replicate 1'],\n",
       "     u'extract_protocol_ch1': [u'Tissue samples were dissociated with trypsin, immunolabeled, and FACS sorted, and RNA purified from sorted cell populations, all using standard kits and protocols.',\n",
       "      u'Illumina TruSeq v2 paired-end mRNA library protocol'],\n",
       "     u'geo_accession': [u'GSM1617400'],\n",
       "     u'instrument_model': [u'Illumina HiSeq 2000'],\n",
       "     u'last_update_date': [u'Feb 24 2015'],\n",
       "     u'library_selection': [u'cDNA'],\n",
       "     u'library_source': [u'transcriptomic'],\n",
       "     u'library_strategy': [u'RNA-Seq'],\n",
       "     u'molecule_ch1': [u'total RNA'],\n",
       "     u'organism_ch1': [u'Homo sapiens'],\n",
       "     u'platform_id': [u'GPL11154'],\n",
       "     u'relation': [u'BioSample: https://www.ncbi.nlm.nih.gov/biosample/SAMN03366655',\n",
       "      u'SRA: https://www.ncbi.nlm.nih.gov/sra?term=SRX886330'],\n",
       "     u'series_id': [u'GSE66217'],\n",
       "     u'source_name_ch1': [u'mid-fetal cerebral cortex'],\n",
       "     u'status': [u'Public on Feb 24 2015'],\n",
       "     u'submission_date': [u'Feb 23 2015'],\n",
       "     u'supplementary_file_1': [u'ftp://ftp-trace.ncbi.nlm.nih.gov/sra/sra-instant/reads/ByExp/sra/SRX/SRX886/SRX886330'],\n",
       "     u'taxid_ch1': [u'9606'],\n",
       "     u'title': [u'FB032_LG-Pr-'],\n",
       "     u'type': [u'SRA']},\n",
       "    u'_type': u'external'}],\n",
       "  u'max_score': 0.18232156,\n",
       "  u'total': 2},\n",
       " u'timed_out': False,\n",
       " u'took': 2}"
      ]
     },
     "execution_count": 44,
     "metadata": {},
     "output_type": "execute_result"
    }
   ],
   "source": [
    "\n",
    "response = requests.get(HOST_URL + '/_cat/indices?v', auth=auth)\n",
    "print response.content\n",
    "\n",
    "\n",
    "response = requests.get(HOST_URL + '/testindex/_search?q=contact_city:boston&pretty')\n",
    "x = response.content\n",
    "import json\n",
    "json.loads(x)\n",
    "\n",
    "\n"
   ]
  },
  {
   "cell_type": "code",
   "execution_count": 45,
   "metadata": {
    "collapsed": false
   },
   "outputs": [
    {
     "name": "stdout",
     "output_type": "stream",
     "text": [
      "https://search-czi-bio-search-alpha-6f6daen5vamw4ywwy5uyknspry.us-east-1.es.amazonaws.com/testindex/_search?q=cortex&pretty\n"
     ]
    }
   ],
   "source": [
    "x = HOST_URL + '/testindex/_search?q=cortex&pretty'\n",
    "print x"
   ]
  }
 ],
 "metadata": {
  "anaconda-cloud": {},
  "kernelspec": {
   "display_name": "Python [conda root]",
   "language": "python",
   "name": "conda-root-py"
  },
  "language_info": {
   "codemirror_mode": {
    "name": "ipython",
    "version": 2
   },
   "file_extension": ".py",
   "mimetype": "text/x-python",
   "name": "python",
   "nbconvert_exporter": "python",
   "pygments_lexer": "ipython2",
   "version": "2.7.12"
  }
 },
 "nbformat": 4,
 "nbformat_minor": 1
}
