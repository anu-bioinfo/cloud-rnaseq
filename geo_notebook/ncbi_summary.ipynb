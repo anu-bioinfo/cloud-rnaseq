{
 "cells": [
  {
   "cell_type": "code",
   "execution_count": 34,
   "metadata": {
    "collapsed": true
   },
   "outputs": [],
   "source": [
    "import pandas\n",
    "import subprocess\n",
    "import re\n",
    "import json\n",
    "import numpy\n",
    "metadata_dir = '/Users/yf/code/czi/hca/util/mus_meta'\n",
    "\n",
    "docs = '200029087,200036552,200038495,200041265,200042268,200044183,200044618,200045719,200046980,200047835,200048968,200049321,200051254,200051372,200052529,200052583,200054006,200054695,200055291,200057249,200057872,200059114,200059127,200059129,200059130,200059739,200060297,200060361,200060407,200060781,200061300,200062270,200063093,200063266,200063576,200064002,200064016,200064677,200064679,200064960,200065364,200065481,200065525,200066053,200066202,200066217,200066357,200066507,200066582,200066954,200067120,200067310,200067602,200067833,200067835,200067980,200068596,200068642,200068981,200069405,200069761,200069790,200069926,200069970,200070235,200070236,200070237,200070238,200070239,200070240,200070241,200070242,200070243,200070244,200070580,200070605,200070630,200070844,200070930,200071453,200071485,200071585,200071982,200072857,200073121,200073727,200074406,200074534,200074594,200074595,200074596,200074672,200074923,200074994,200075103,200075104,200075105,200075106,200075107,200075108,200075109,200075110,200075111,200075140,200075330,200075386,200075413,200075659,200075748,200075751,200075790,200075804,200075901,200076157,200076381,200076408,200076579,200076983,200077029,200077067,200077288,200077740,200077847,200077980,200078045,200078510,200078521,200078779,200078845,200078907,200078968,200079363,200079510,200079651,200079812,200079818,200079920,200080032,200080232,200081252,200081275,200081287,200081383,200081608,200081673,200081682,200081903,200082174,200082187,200083139,200083146,200083948,200084133,200084789,200085575,200085776,200085783,200085951,200085954,200086028,200086030,200086031,200086039,200086207,200086618,200086929,200087069,200087849,200088850,200089232,200089236,200089237,200090063,200090486,200090487,200090546,200092495,200092872,200093421,200094555'\n",
    "doc_list = docs.split(',')"
   ]
  },
  {
   "cell_type": "code",
   "execution_count": 11,
   "metadata": {
    "collapsed": false
   },
   "outputs": [
    {
     "name": "stdout",
     "output_type": "stream",
     "text": [
      "ls /Users/yf/code/czi/hca/util/mus_meta/*.json\n",
      "no match\n"
     ]
    }
   ],
   "source": [
    "experiments = {}\n",
    "\n",
    "command = \"ls %s/*.json\" % metadata_dir\n",
    "print command\n",
    "output = subprocess.check_output(command, shell=True)\n",
    "\n",
    "if output:\n",
    "    meta_files = output.split('\\n')\n",
    "    for f in meta_files: \n",
    "        m = re.match(\".*/(\\d+).metadata.json\", f)\n",
    "        if m: \n",
    "            gds_id = m.group(1)\n",
    "        else:\n",
    "            print \"no match\" \n",
    "            continue\n",
    "        with open(f, 'rb') as metaf:\n",
    "            samples = json.loads(metaf.read())\n",
    "            obj = samples[samples.keys()[0]]\n",
    "            experiments[gds_id] = obj['series_data']\n",
    "            \n"
   ]
  },
  {
   "cell_type": "code",
   "execution_count": null,
   "metadata": {
    "collapsed": true
   },
   "outputs": [],
   "source": []
  },
  {
   "cell_type": "code",
   "execution_count": 13,
   "metadata": {
    "collapsed": false
   },
   "outputs": [],
   "source": [
    "output = json.dumps(experiments)\n",
    "exp_file = \"/Users/yf/code/czi/hca/util/metadata.all.json\"\n",
    "with open(exp_file, \"w\") as expf:\n",
    "    expf.write(output)\n"
   ]
  },
  {
   "cell_type": "code",
   "execution_count": 46,
   "metadata": {
    "collapsed": false
   },
   "outputs": [
    {
     "name": "stdout",
     "output_type": "stream",
     "text": [
      "2015|79|35219\n",
      "2014|21|8524\n",
      "2017|2|139\n",
      "2016|62|20141\n",
      "2011|1|96\n",
      "2013|11|4106\n",
      "2012|4|346\n"
     ]
    }
   ],
   "source": [
    "x = ''\n",
    "data = []\n",
    "for key, obj in experiments.iteritems():\n",
    "    if key in doc_list:\n",
    "        submission_date = obj['submission_date'][0] \n",
    "        row = [key, obj['contact_institute'][0], obj['contact_name'][0],submission_date, str(len(obj['sample_id'])), '|'.join(obj['sample_taxid'])]\n",
    "        data.append(row)\n",
    "        x += \"\\t\".join(row)\n",
    "        x+=\"\\n\" \n",
    "    \n",
    "import codecs \n",
    "with codecs.open(\"/Users/yf/code/czi/hca/util/metadata.summary.tsv\", \"w\", encoding='utf-8') as expf:\n",
    "    expf.write(x)\n",
    "\n",
    "institutions = {}\n",
    "for row in data:\n",
    "    submission =row[3][-4:]\n",
    "    x = institutions.get(submission, {'count':0, 'total':0})\n",
    "    x['count'] +=1\n",
    "    x['total'] += int(row[4])\n",
    "    institutions[submission] = x\n",
    "\n",
    "for k, r in institutions.iteritems():\n",
    "    print \"%s|%s|%s\" % (k, r['count'], r['total'])\n",
    "    \n",
    "    "
   ]
  }
 ],
 "metadata": {
  "anaconda-cloud": {},
  "kernelspec": {
   "display_name": "Python [conda root]",
   "language": "python",
   "name": "conda-root-py"
  },
  "language_info": {
   "codemirror_mode": {
    "name": "ipython",
    "version": 2
   },
   "file_extension": ".py",
   "mimetype": "text/x-python",
   "name": "python",
   "nbconvert_exporter": "python",
   "pygments_lexer": "ipython2",
   "version": "2.7.9"
  }
 },
 "nbformat": 4,
 "nbformat_minor": 1
}
